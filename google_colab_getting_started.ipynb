{
  "nbformat": 4,
  "nbformat_minor": 0,
  "metadata": {
    "kernelspec": {
      "name": "python3",
      "display_name": "Python 3"
    },
    "language_info": {
      "codemirror_mode": {
        "name": "ipython",
        "version": 3
      },
      "file_extension": ".py",
      "mimetype": "text/x-python",
      "name": "python",
      "nbconvert_exporter": "python",
      "pygments_lexer": "ipython3",
      "version": "3.7.3"
    },
    "colab": {
      "name": "colab_getting_started.ipynb",
      "provenance": [],
      "collapsed_sections": [
        "XWS-gw-uieMC"
      ],
      "toc_visible": true
    },
    "accelerator": "GPU"
  },
  "cells": [
    {
      "cell_type": "code",
      "metadata": {
        "id": "c-rDWcV9Sa5j",
        "colab_type": "code",
        "colab": {}
      },
      "source": [
        "!date"
      ],
      "execution_count": 0,
      "outputs": []
    },
    {
      "cell_type": "markdown",
      "metadata": {
        "id": "XTDBxdkcI95X",
        "colab_type": "text"
      },
      "source": [
        "# Download and install kallisto|bustools\n",
        "\n",
        "\n"
      ]
    },
    {
      "cell_type": "code",
      "metadata": {
        "id": "9_1SBmbHfatg",
        "colab_type": "code",
        "colab": {}
      },
      "source": [
        "!wget https://github.com/pachterlab/kallisto/releases/download/v0.46.0/kallisto_linux-v0.46.0.tar.gz\n",
        "!tar -xf kallisto_linux-v0.46.0.tar.gz\n",
        "!cp kallisto/kallisto /usr/local/bin/\n",
        "\n",
        "!wget https://github.com/BUStools/bustools/releases/download/v0.39.3/bustools_linux-v0.39.3.tar.gz\n",
        "!tar -xf bustools_linux-v0.39.3.tar.gz\n",
        "!cp bustools/bustools /usr/local/bin/"
      ],
      "execution_count": 0,
      "outputs": []
    },
    {
      "cell_type": "code",
      "metadata": {
        "id": "P8hIP2pofHwH",
        "colab_type": "code",
        "colab": {}
      },
      "source": [
        "#TEST\n",
        "!kallisto\n",
        "!bustools"
      ],
      "execution_count": 0,
      "outputs": []
    },
    {
      "cell_type": "markdown",
      "metadata": {
        "id": "XWS-gw-uieMC",
        "colab_type": "text"
      },
      "source": [
        "# Get reference data"
      ]
    },
    {
      "cell_type": "code",
      "metadata": {
        "id": "-jXKh60OHRdM",
        "colab_type": "code",
        "colab": {}
      },
      "source": [
        "# DOWLOAD kallisto index\n",
        "!wget https://github.com/BUStools/getting_started/releases/download/getting_started/Mus_musculus.GRCm38.cdna.all.idx.gz\n",
        "!gunzip Mus_musculus.GRCm38.cdna.all.idx.gz\n",
        "\n",
        "# get the whitelist and tx to gene file\n",
        "!wget https://github.com/BUStools/getting_started/releases/download/getting_started/10xv2_whitelist.txt\n",
        "!wget https://github.com/BUStools/getting_started/releases/download/getting_started/transcripts_to_genes.txt"
      ],
      "execution_count": 0,
      "outputs": []
    },
    {
      "cell_type": "markdown",
      "metadata": {
        "id": "RvW27EQPSslm",
        "colab_type": "text"
      },
      "source": [
        "# Run kallisto (streaming fastqs as input)"
      ]
    },
    {
      "cell_type": "code",
      "metadata": {
        "id": "hfd-SKqDF0e8",
        "colab_type": "code",
        "colab": {}
      },
      "source": [
        "!\\\n",
        "urlR1=\"https://github.com/bustools/getting_started/releases/download/getting_started/SRR8599150_S1_L001_R1_001.fastq.gz\"; \\\n",
        "urlR2=\"https://github.com/bustools/getting_started/releases/download/getting_started/SRR8599150_S1_L001_R2_001.fastq.gz\"; \\\n",
        "time kallisto bus -i Mus_musculus.GRCm38.cdna.all.idx -x 10xv2 -t 2 -o bus_out/ <(curl -Ls ${urlR1}) <(curl -Ls ${urlR2})"
      ],
      "execution_count": 0,
      "outputs": []
    },
    {
      "cell_type": "markdown",
      "metadata": {
        "id": "CUnbhG9QVTsE",
        "colab_type": "text"
      },
      "source": [
        "#Run bustools (correct, sort, count)"
      ]
    },
    {
      "cell_type": "code",
      "metadata": {
        "id": "wO0Fc7QIUc5L",
        "colab_type": "code",
        "colab": {}
      },
      "source": [
        "!mkdir bus_out/genecount/ bus_out/tmp/\n",
        "!time bustools correct -w 10xv2_whitelist.txt -p bus_out/output.bus | bustools sort -T bus_out/tmp/ -t 2 -p - | bustools count -o bus_out/genecount/genes -g transcripts_to_genes.txt -e bus_out/matrix.ec -t bus_out/transcripts.txt --genecounts -"
      ],
      "execution_count": 0,
      "outputs": []
    },
    {
      "cell_type": "markdown",
      "metadata": {
        "id": "UExHieIvdaQw",
        "colab_type": "text"
      },
      "source": [
        "---\n",
        "\n",
        "\n",
        "\n",
        "---"
      ]
    },
    {
      "cell_type": "code",
      "metadata": {
        "id": "32rXfBoufApj",
        "colab_type": "code",
        "colab": {}
      },
      "source": [
        "!date"
      ],
      "execution_count": 0,
      "outputs": []
    },
    {
      "cell_type": "markdown",
      "metadata": {
        "id": "vXHt72LKdelY",
        "colab_type": "text"
      },
      "source": [
        "---\n",
        "\n",
        "\n",
        "\n",
        "---"
      ]
    },
    {
      "cell_type": "markdown",
      "metadata": {
        "id": "NtgMu-oQcYot",
        "colab_type": "text"
      },
      "source": [
        "# Install python packages\n",
        "\n",
        "\n"
      ]
    },
    {
      "cell_type": "code",
      "metadata": {
        "id": "ftUvGyjMShYV",
        "colab_type": "code",
        "colab": {}
      },
      "source": [
        "!pip install scanpy[louvain] \n",
        "!pip install MulticoreTSNE"
      ],
      "execution_count": 0,
      "outputs": []
    },
    {
      "cell_type": "markdown",
      "metadata": {
        "id": "BWo19YhKSa5p",
        "colab_type": "text"
      },
      "source": [
        "# Getting Started Analysis: Analyzing SRR8599150 with ScanPy \n",
        "\n",
        "*   Jupyter notebook from [kallistobus.tools/getting_started](https://www.kallistobus.tools/getting_started) "
      ]
    },
    {
      "cell_type": "markdown",
      "metadata": {
        "id": "i4SJ06NMSa5r",
        "colab_type": "text"
      },
      "source": [
        "### Import Packages"
      ]
    },
    {
      "cell_type": "code",
      "metadata": {
        "id": "kWfcafjVSa5s",
        "colab_type": "code",
        "colab": {}
      },
      "source": [
        "import scanpy as sc\n",
        "from scipy import sparse, io\n",
        "import matplotlib.pyplot as plt\n",
        "import pandas as pd\n",
        "import matplotlib\n",
        "import numpy as np\n",
        "\n",
        "matplotlib.rcParams.update({'font.size': 12})\n",
        "%config InlineBackend.figure_format = 'retina'"
      ],
      "execution_count": 0,
      "outputs": []
    },
    {
      "cell_type": "markdown",
      "metadata": {
        "id": "awDqY2APSa5v",
        "colab_type": "text"
      },
      "source": [
        "### Import MTX, GENES, BARCODES"
      ]
    },
    {
      "cell_type": "code",
      "metadata": {
        "id": "x3WGh-yOSa5w",
        "colab_type": "code",
        "colab": {}
      },
      "source": [
        "folder = \"/content/bus_out/genecount/\""
      ],
      "execution_count": 0,
      "outputs": []
    },
    {
      "cell_type": "markdown",
      "metadata": {
        "id": "sE0OVl2hSa5z",
        "colab_type": "text"
      },
      "source": [
        "The annotated dataframe has rows (obs) which are cell barcodes, columns (var) which are genes. The actual matrix `adata.X` is a sparse matrix."
      ]
    },
    {
      "cell_type": "code",
      "metadata": {
        "id": "e4fnoSSJSa50",
        "colab_type": "code",
        "colab": {}
      },
      "source": [
        "adata = sc.read_mtx(folder + \"genes.mtx\")\n",
        "adata.obs.index = pd.read_csv(folder + \"genes.barcodes.txt\", header=None)[0].values\n",
        "adata.var.index = pd.read_csv(folder + \"genes.genes.txt\", header=None)[0].values"
      ],
      "execution_count": 0,
      "outputs": []
    },
    {
      "cell_type": "code",
      "metadata": {
        "id": "5KW98i0mSa53",
        "colab_type": "code",
        "colab": {}
      },
      "source": [
        "adata"
      ],
      "execution_count": 0,
      "outputs": []
    },
    {
      "cell_type": "markdown",
      "metadata": {
        "id": "z2i1abw1Sa57",
        "colab_type": "text"
      },
      "source": [
        "## Make the knee plot"
      ]
    },
    {
      "cell_type": "code",
      "metadata": {
        "id": "5cVYa8PPSa59",
        "colab_type": "code",
        "colab": {}
      },
      "source": [
        "knee = np.sort((np.array(adata.X.sum(axis=1))).flatten())[::-1]"
      ],
      "execution_count": 0,
      "outputs": []
    },
    {
      "cell_type": "code",
      "metadata": {
        "id": "PMrlZ5_USa5_",
        "colab_type": "code",
        "colab": {}
      },
      "source": [
        "fig, ax = plt.subplots(figsize=(10, 7))\n",
        "\n",
        "expected_num_cells=3949\n",
        "\n",
        "ax.loglog(knee, range(len(knee)), label=\"kallisto\", linewidth=5, color=\"k\")\n",
        "ax.axvline(x=knee[expected_num_cells], linewidth=3, color=\"g\")\n",
        "ax.axhline(y=expected_num_cells, linewidth=3, color=\"g\")\n",
        "\n",
        "ax.set_xlabel(\"UMI Counts\")\n",
        "ax.set_ylabel(\"Set of Barcodes\")\n",
        "\n",
        "plt.grid(True, which=\"both\")\n",
        "ax.legend()\n",
        "plt.show()"
      ],
      "execution_count": 0,
      "outputs": []
    },
    {
      "cell_type": "markdown",
      "metadata": {
        "id": "mhAmj8shSa6C",
        "colab_type": "text"
      },
      "source": [
        "## Analysis with ScanPy"
      ]
    },
    {
      "cell_type": "code",
      "metadata": {
        "id": "zt6_uXI-Sa6D",
        "colab_type": "code",
        "colab": {}
      },
      "source": [
        "sc.pp.filter_cells(adata, min_genes=0)\n",
        "sc.pp.filter_cells(adata, min_counts=knee[expected_num_cells])\n",
        "sc.pp.filter_genes(adata, min_cells=0)"
      ],
      "execution_count": 0,
      "outputs": []
    },
    {
      "cell_type": "code",
      "metadata": {
        "id": "VQVqCmkvSa6G",
        "colab_type": "code",
        "colab": {}
      },
      "source": [
        "adata"
      ],
      "execution_count": 0,
      "outputs": []
    },
    {
      "cell_type": "markdown",
      "metadata": {
        "id": "Pc-p4tg3Sa6J",
        "colab_type": "text"
      },
      "source": [
        "### Distribution of genes"
      ]
    },
    {
      "cell_type": "code",
      "metadata": {
        "id": "0kHk6nPGSa6J",
        "colab_type": "code",
        "colab": {}
      },
      "source": [
        "fig, ax = plt.subplots(figsize=(10, 7))\n",
        "sc.pl.violin(adata, 'n_genes', jitter=0.4, ax=ax)"
      ],
      "execution_count": 0,
      "outputs": []
    },
    {
      "cell_type": "markdown",
      "metadata": {
        "id": "8tgy3ZfISa6M",
        "colab_type": "text"
      },
      "source": [
        "### Distribution of counts"
      ]
    },
    {
      "cell_type": "code",
      "metadata": {
        "id": "xlJ41upJSa6N",
        "colab_type": "code",
        "colab": {}
      },
      "source": [
        "fig, ax = plt.subplots(figsize=(10, 7))\n",
        "sc.pl.violin(adata, 'n_counts', jitter=0.4, ax=ax)"
      ],
      "execution_count": 0,
      "outputs": []
    },
    {
      "cell_type": "markdown",
      "metadata": {
        "id": "FR082u79Sa6Q",
        "colab_type": "text"
      },
      "source": [
        "Normalize the counts in the matrix"
      ]
    },
    {
      "cell_type": "code",
      "metadata": {
        "id": "lyNrMP41Sa6Q",
        "colab_type": "code",
        "colab": {}
      },
      "source": [
        "sc.pp.normalize_per_cell(adata, counts_per_cell_after=1e4)"
      ],
      "execution_count": 0,
      "outputs": []
    },
    {
      "cell_type": "markdown",
      "metadata": {
        "id": "AHA3DMOiSa6T",
        "colab_type": "text"
      },
      "source": [
        "apply $log(1+count)$ to all counts in your matrix"
      ]
    },
    {
      "cell_type": "code",
      "metadata": {
        "id": "EO-kDrtnSa6T",
        "colab_type": "code",
        "colab": {}
      },
      "source": [
        "adata.raw = sc.pp.log1p(adata, copy=True)"
      ],
      "execution_count": 0,
      "outputs": []
    },
    {
      "cell_type": "code",
      "metadata": {
        "id": "W6dkN0DESa6W",
        "colab_type": "code",
        "colab": {}
      },
      "source": [
        "sc.pp.log1p(adata)"
      ],
      "execution_count": 0,
      "outputs": []
    },
    {
      "cell_type": "markdown",
      "metadata": {
        "id": "HH8aLUm1Sa6Y",
        "colab_type": "text"
      },
      "source": [
        "Filter adata for highly variable genes, and make `fadata` which only contains highly variable genes for further analysis."
      ]
    },
    {
      "cell_type": "markdown",
      "metadata": {
        "id": "28yBtadXSa6Z",
        "colab_type": "text"
      },
      "source": [
        "### Highly variable genes"
      ]
    },
    {
      "cell_type": "code",
      "metadata": {
        "id": "CkPuCStLSa6a",
        "colab_type": "code",
        "colab": {}
      },
      "source": [
        "filter_result = sc.pp.highly_variable_genes(adata, min_disp=0.3,inplace=False, n_top_genes=1209)\n",
        "\n",
        "sc.pl.highly_variable_genes(filter_result)"
      ],
      "execution_count": 0,
      "outputs": []
    },
    {
      "cell_type": "code",
      "metadata": {
        "id": "bpXAnZzVSa6c",
        "colab_type": "code",
        "colab": {}
      },
      "source": [
        "print(\"{:,} highly variable genes\".format(sum(x[0] for x in filter_result)))"
      ],
      "execution_count": 0,
      "outputs": []
    },
    {
      "cell_type": "markdown",
      "metadata": {
        "id": "fmKWLCjOSa6f",
        "colab_type": "text"
      },
      "source": [
        "### Cluster with Louvain and Plot PCA, UMAP, TSNE"
      ]
    },
    {
      "cell_type": "code",
      "metadata": {
        "id": "mfHLJ0CCSa6g",
        "colab_type": "code",
        "colab": {}
      },
      "source": [
        "%%time\n",
        "sc.tl.pca(adata)\n",
        "sc.pp.neighbors(adata)\n",
        "sc.tl.louvain(adata)"
      ],
      "execution_count": 0,
      "outputs": []
    },
    {
      "cell_type": "code",
      "metadata": {
        "id": "8aDhTPPrSa6k",
        "colab_type": "code",
        "colab": {}
      },
      "source": [
        "%%time\n",
        "sc.tl.tsne(adata, n_pcs=10)"
      ],
      "execution_count": 0,
      "outputs": []
    },
    {
      "cell_type": "code",
      "metadata": {
        "id": "s_78o33VSa6n",
        "colab_type": "code",
        "colab": {}
      },
      "source": [
        "fig, ax = plt.subplots(figsize=(10, 7))\n",
        "sc.pl.pca(adata, color=\"louvain\", ax=ax)"
      ],
      "execution_count": 0,
      "outputs": []
    },
    {
      "cell_type": "code",
      "metadata": {
        "id": "p0-GWmrgSa6s",
        "colab_type": "code",
        "colab": {}
      },
      "source": [
        "sc.pl.pca_variance_ratio(adata)"
      ],
      "execution_count": 0,
      "outputs": []
    },
    {
      "cell_type": "code",
      "metadata": {
        "id": "TtcN5hleSa6v",
        "colab_type": "code",
        "colab": {}
      },
      "source": [
        "fig, ax = plt.subplots(figsize=(10, 7))\n",
        "sc.pl.tsne(adata, color=\"louvain\", ax=ax, save=\"getting_started_tsne.png\")"
      ],
      "execution_count": 0,
      "outputs": []
    },
    {
      "cell_type": "code",
      "metadata": {
        "id": "OZoqHNZuSa61",
        "colab_type": "code",
        "colab": {}
      },
      "source": [
        "!date"
      ],
      "execution_count": 0,
      "outputs": []
    }
  ]
}