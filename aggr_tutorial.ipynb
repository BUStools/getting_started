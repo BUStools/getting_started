{
 "cells": [
  {
   "cell_type": "markdown",
   "metadata": {},
   "source": [
    "# Aggregating multiple  count matrices"
   ]
  },
  {
   "cell_type": "markdown",
   "metadata": {},
   "source": [
    "This notebook describes how to aggregate multiple count matrices by concatenating them into a single AnnData object with batch labels for different samples.\n",
    "\n",
    "This is similar to the Cell Ranger `aggr` function, however no normalization is performed. `cellranger aggr` is described at https://support.10xgenomics.com/single-cell-gene-expression/software/pipelines/latest/using/aggregate\n",
    "\n",
    "For this tutorial we use dataset E-MTAB-6108. We provide the count matrices as an 80mb zip file at https://github.com/BUStools/getting_started/releases/download/aggr/E-MTAB-6108_sample1_sample2_genecounts.zip\n",
    "\n",
    "If you download the zip file is has the following structure: \n",
    "```\n",
    "E-MTAB-6108_sample1_sample2_genecounts.zip\n",
    "├── sample1\n",
    "│   ├── genecounts\n",
    "│   │   ├── genes.barcodes.txt\n",
    "│   │   ├── genes.genes.txt\n",
    "│   │   └── genes.mtx\n",
    "│   ├── matrix.ec\n",
    "│   ├── run_info.json\n",
    "│   └── transcripts.txt\n",
    "└── sample2\n",
    "    ├── genecounts\n",
    "    │   ├── genes.barcodes.txt\n",
    "    │   ├── genes.genes.txt\n",
    "    │   └── genes.mtx\n",
    "    ├── matrix.ec\n",
    "    ├── run_info.json\n",
    "    └── transcripts.txt\n",
    "```\n",
    "The raw data for E-MTAB-6108 is available at:\n",
    "https://www.ebi.ac.uk/arrayexpress/experiments/E-MTAB-6108/\n"
   ]
  },
  {
   "cell_type": "code",
   "execution_count": 1,
   "metadata": {},
   "outputs": [],
   "source": [
    "from anndata import AnnData\n",
    "import anndata\n",
    "from scipy import sparse\n",
    "import scipy\n",
    "import anndata\n",
    "import scipy.io\n",
    "import os"
   ]
  },
  {
   "cell_type": "markdown",
   "metadata": {},
   "source": [
    "# Check that FASTQ data is in place "
   ]
  },
  {
   "cell_type": "code",
   "execution_count": 2,
   "metadata": {},
   "outputs": [
    {
     "name": "stdout",
     "output_type": "stream",
     "text": [
      "total 22G\n",
      "-rw-rw-r--. 1 munfred munfred 2.7G Jul 17 22:23 iPSC_RGCscRNAseq_Sample1_L005_R1.fastq.gz\n",
      "-rw-rw-r--. 1 munfred munfred 9.9G Jul 17 22:41 iPSC_RGCscRNAseq_Sample1_L005_R2.fastq.gz\n",
      "-rw-rw-r--. 1 munfred munfred 1.9G Jul 17 22:20 iPSC_RGCscRNAseq_Sample2_L005_R1.fastq.gz\n",
      "-rw-rw-r--. 1 munfred munfred 7.1G Jul 17 22:34 iPSC_RGCscRNAseq_Sample2_L005_R2.fastq.gz\n",
      "-rw-rw-r--. 1 munfred munfred 4.7K Jul 17 22:46 README.txt\n"
     ]
    }
   ],
   "source": [
    "!ls -lh /data/E-MTAB-6108/"
   ]
  },
  {
   "cell_type": "markdown",
   "metadata": {},
   "source": [
    "## Process sample 1 with kallisto and bustools"
   ]
  },
  {
   "cell_type": "code",
   "execution_count": 3,
   "metadata": {},
   "outputs": [
    {
     "name": "stdout",
     "output_type": "stream",
     "text": [
      "\n",
      "[index] k-mer length: 31\n",
      "[index] number of targets: 188,753\n",
      "[index] number of k-mers: 109,544,288\n",
      "[index] number of equivalence classes: 760,757\n",
      "[quant] will process sample 1: /data/E-MTAB-6108/iPSC_RGCscRNAseq_Sample1_L005_R1.fastq.gz\n",
      "                               /data/E-MTAB-6108/iPSC_RGCscRNAseq_Sample1_L005_R2.fastq.gz\n",
      "[quant] finding pseudoalignments for the reads ... done\n",
      "[quant] processed 135,299,096 reads, 90,746,402 reads pseudoaligned\n"
     ]
    }
   ],
   "source": [
    "!kallisto bus -i /references/homo_sapiens-ensembl-96/transcriptome.idx -o ./sample1 -x 10xv2 -t 8 \\\n",
    "/data/E-MTAB-6108/iPSC_RGCscRNAseq_Sample1_L005_R1.fastq.gz \\\n",
    "/data/E-MTAB-6108/iPSC_RGCscRNAseq_Sample1_L005_R2.fastq.gz\n"
   ]
  },
  {
   "cell_type": "code",
   "execution_count": 4,
   "metadata": {},
   "outputs": [
    {
     "name": "stdout",
     "output_type": "stream",
     "text": [
      "genecounts  matrix.ec  output.bus  run_info.json  transcripts.txt\n"
     ]
    }
   ],
   "source": [
    "!ls ./sample1/"
   ]
  },
  {
   "cell_type": "code",
   "execution_count": 5,
   "metadata": {},
   "outputs": [
    {
     "name": "stdout",
     "output_type": "stream",
     "text": [
      "Found 737280 barcodes in the whitelist\n",
      "Number of hamming dist 1 barcodes = 737280\n",
      "Processed 90746402 bus records, rescued 88289244 records\n"
     ]
    }
   ],
   "source": [
    "!bustools correct --output ./sample1/output.corrected.bus --whitelist /references/10xv2_whitelist.txt ./sample1/output.bus"
   ]
  },
  {
   "cell_type": "code",
   "execution_count": 6,
   "metadata": {},
   "outputs": [
    {
     "name": "stdout",
     "output_type": "stream",
     "text": [
      "total 5.4G\n",
      "drwxrwxr-x. 2 munfred munfred 4.0K Jul 17 23:51 genecounts\n",
      "-rw-rw-r--. 1 munfred munfred  48M Jul 19 14:59 matrix.ec\n",
      "-rw-rw-r--. 1 munfred munfred 2.8G Jul 19 14:59 output.bus\n",
      "-rw-rw-r--. 1 munfred munfred 2.7G Jul 19 15:00 output.corrected.bus\n",
      "-rw-rw-r--. 1 munfred munfred  489 Jul 19 14:59 run_info.json\n",
      "-rw-rw-r--. 1 munfred munfred 3.3M Jul 19 14:59 transcripts.txt\n"
     ]
    }
   ],
   "source": [
    "!ls -lh ./sample1/"
   ]
  },
  {
   "cell_type": "code",
   "execution_count": 7,
   "metadata": {},
   "outputs": [
    {
     "name": "stdout",
     "output_type": "stream",
     "text": [
      "Read in 88289244 number of busrecords\n",
      "All sorted\n"
     ]
    }
   ],
   "source": [
    "!bustools sort --output ./sample1/output.corrected.sorted.bus ./sample1/output.corrected.bus"
   ]
  },
  {
   "cell_type": "code",
   "execution_count": 8,
   "metadata": {},
   "outputs": [
    {
     "name": "stdout",
     "output_type": "stream",
     "text": [
      "total 6.6G\n",
      "drwxrwxr-x. 2 munfred munfred 4.0K Jul 17 23:51 genecounts\n",
      "-rw-rw-r--. 1 munfred munfred  48M Jul 19 14:59 matrix.ec\n",
      "-rw-rw-r--. 1 munfred munfred 2.8G Jul 19 14:59 output.bus\n",
      "-rw-rw-r--. 1 munfred munfred 2.7G Jul 19 15:00 output.corrected.bus\n",
      "-rw-rw-r--. 1 munfred munfred 1.2G Jul 19 15:00 output.corrected.sorted.bus\n",
      "-rw-rw-r--. 1 munfred munfred  489 Jul 19 14:59 run_info.json\n",
      "-rw-rw-r--. 1 munfred munfred 3.3M Jul 19 14:59 transcripts.txt\n"
     ]
    }
   ],
   "source": [
    "!ls -lh ./sample1/"
   ]
  },
  {
   "cell_type": "code",
   "execution_count": 9,
   "metadata": {},
   "outputs": [
    {
     "name": "stdout",
     "output_type": "stream",
     "text": [
      "bad counts = 0, rescued  =0, compacted = 0\n"
     ]
    }
   ],
   "source": [
    "!mkdir -p ./sample1/genecounts\n",
    "!bustools count \\\n",
    "--output  ./sample1/genecounts/genes \\\n",
    "--genecounts \\\n",
    "--genemap /references/homo_sapiens-ensembl-96/transcripts_to_genes.txt \\\n",
    "--ecmap ./sample1/matrix.ec \\\n",
    "--txnames  ./sample1/transcripts.txt \\\n",
    "./sample1/output.corrected.sorted.bus "
   ]
  },
  {
   "cell_type": "code",
   "execution_count": 10,
   "metadata": {},
   "outputs": [
    {
     "name": "stdout",
     "output_type": "stream",
     "text": [
      "total 135M\n",
      "-rw-rw-r--. 1 munfred munfred 3.7M Jul 19 15:00 genes.barcodes.txt\n",
      "-rw-rw-r--. 1 munfred munfred 640K Jul 19 15:00 genes.genes.txt\n",
      "-rw-rw-r--. 1 munfred munfred 130M Jul 19 15:00 genes.mtx\n"
     ]
    }
   ],
   "source": [
    "!ls -lh ./sample1/genecounts/"
   ]
  },
  {
   "cell_type": "markdown",
   "metadata": {},
   "source": [
    "## Process sample 2 with kallisto and bustools"
   ]
  },
  {
   "cell_type": "code",
   "execution_count": 11,
   "metadata": {},
   "outputs": [
    {
     "name": "stdout",
     "output_type": "stream",
     "text": [
      "\n",
      "[index] k-mer length: 31\n",
      "[index] number of targets: 188,753\n",
      "[index] number of k-mers: 109,544,288\n",
      "[index] number of equivalence classes: 760,757\n",
      "[quant] will process sample 1: /data/E-MTAB-6108/iPSC_RGCscRNAseq_Sample2_L005_R1.fastq.gz\n",
      "                               /data/E-MTAB-6108/iPSC_RGCscRNAseq_Sample2_L005_R2.fastq.gz\n",
      "[quant] finding pseudoalignments for the reads ... done\n",
      "[quant] processed 95,769,921 reads, 65,902,895 reads pseudoaligned\n"
     ]
    }
   ],
   "source": [
    "!kallisto bus -i /references/homo_sapiens-ensembl-96/transcriptome.idx -o ./sample2 -x 10xv2 -t 8 \\\n",
    "/data/E-MTAB-6108/iPSC_RGCscRNAseq_Sample2_L005_R1.fastq.gz \\\n",
    "/data/E-MTAB-6108/iPSC_RGCscRNAseq_Sample2_L005_R2.fastq.gz"
   ]
  },
  {
   "cell_type": "code",
   "execution_count": 12,
   "metadata": {},
   "outputs": [
    {
     "name": "stdout",
     "output_type": "stream",
     "text": [
      "genecounts  matrix.ec  output.bus  run_info.json  transcripts.txt\n"
     ]
    }
   ],
   "source": [
    "!ls ./sample2/"
   ]
  },
  {
   "cell_type": "code",
   "execution_count": 13,
   "metadata": {},
   "outputs": [
    {
     "name": "stdout",
     "output_type": "stream",
     "text": [
      "Found 737280 barcodes in the whitelist\n",
      "Number of hamming dist 1 barcodes = 737280\n",
      "Processed 65902895 bus records, rescued 64168706 records\n"
     ]
    }
   ],
   "source": [
    "!bustools correct --output ./sample2/output.corrected.bus --whitelist /references/10xv2_whitelist.txt ./sample2/output.bus"
   ]
  },
  {
   "cell_type": "code",
   "execution_count": 14,
   "metadata": {},
   "outputs": [
    {
     "name": "stdout",
     "output_type": "stream",
     "text": [
      "total 4.0G\n",
      "drwxrwxr-x. 2 munfred munfred 4.0K Jul 17 23:50 genecounts\n",
      "-rw-rw-r--. 1 munfred munfred  46M Jul 19 15:04 matrix.ec\n",
      "-rw-rw-r--. 1 munfred munfred 2.0G Jul 19 15:04 output.bus\n",
      "-rw-rw-r--. 1 munfred munfred 2.0G Jul 19 15:04 output.corrected.bus\n",
      "-rw-rw-r--. 1 munfred munfred  488 Jul 19 15:04 run_info.json\n",
      "-rw-rw-r--. 1 munfred munfred 3.3M Jul 19 15:04 transcripts.txt\n"
     ]
    }
   ],
   "source": [
    "!ls -lh ./sample2/"
   ]
  },
  {
   "cell_type": "code",
   "execution_count": 15,
   "metadata": {},
   "outputs": [
    {
     "name": "stdout",
     "output_type": "stream",
     "text": [
      "Read in 64168706 number of busrecords\n",
      "All sorted\n"
     ]
    }
   ],
   "source": [
    "!bustools sort --output ./sample2/output.corrected.sorted.bus ./sample2/output.corrected.bus"
   ]
  },
  {
   "cell_type": "code",
   "execution_count": 16,
   "metadata": {},
   "outputs": [
    {
     "name": "stdout",
     "output_type": "stream",
     "text": [
      "total 4.5G\n",
      "drwxrwxr-x. 2 munfred munfred 4.0K Jul 17 23:50 genecounts\n",
      "-rw-rw-r--. 1 munfred munfred  46M Jul 19 15:04 matrix.ec\n",
      "-rw-rw-r--. 1 munfred munfred 2.0G Jul 19 15:04 output.bus\n",
      "-rw-rw-r--. 1 munfred munfred 2.0G Jul 19 15:04 output.corrected.bus\n",
      "-rw-rw-r--. 1 munfred munfred 548M Jul 19 15:04 output.corrected.sorted.bus\n",
      "-rw-rw-r--. 1 munfred munfred  488 Jul 19 15:04 run_info.json\n",
      "-rw-rw-r--. 1 munfred munfred 3.3M Jul 19 15:04 transcripts.txt\n"
     ]
    }
   ],
   "source": [
    "!ls -lh ./sample2/"
   ]
  },
  {
   "cell_type": "code",
   "execution_count": 17,
   "metadata": {},
   "outputs": [],
   "source": [
    "!bustools count \\\n",
    "--output  ./sample2/genecounts \\\n",
    "--genecounts \\\n",
    "--genemap /references/homo_sapiens-ensembl-96/transcripts_to_genes.txt \\\n",
    "--ecmap ./sample2/matrix.ec \\\n",
    "--txnames  ./sample2/ranscripts.txt \\\n",
    "./sample2/output.corrected.sorted.bus "
   ]
  },
  {
   "cell_type": "code",
   "execution_count": 18,
   "metadata": {},
   "outputs": [
    {
     "name": "stdout",
     "output_type": "stream",
     "text": [
      "total 55M\n",
      "-rw-rw-r--. 1 munfred munfred 2.2M Jul 17 23:50 genes.barcodes.txt\n",
      "-rw-rw-r--. 1 munfred munfred 640K Jul 17 23:50 genes.genes.txt\n",
      "-rw-rw-r--. 1 munfred munfred  52M Jul 17 23:50 genes.mtx\n"
     ]
    }
   ],
   "source": [
    "!ls -lh ./sample2/genecounts/"
   ]
  },
  {
   "cell_type": "code",
   "execution_count": 19,
   "metadata": {},
   "outputs": [
    {
     "name": "stdout",
     "output_type": "stream",
     "text": [
      "bad counts = 0, rescued  =0, compacted = 0\n"
     ]
    }
   ],
   "source": [
    "!mkdir -p ./sample2/genecounts\n",
    "!bustools count \\\n",
    "--output  ./sample2/genecounts/genes \\\n",
    "--genecounts \\\n",
    "--genemap /references/homo_sapiens-ensembl-96/transcripts_to_genes.txt \\\n",
    "--ecmap ./sample2/matrix.ec \\\n",
    "--txnames  ./sample2/transcripts.txt \\\n",
    "./sample2/output.corrected.sorted.bus "
   ]
  },
  {
   "cell_type": "code",
   "execution_count": 20,
   "metadata": {},
   "outputs": [
    {
     "name": "stdout",
     "output_type": "stream",
     "text": [
      "total 55M\n",
      "-rw-rw-r--. 1 munfred munfred 2.2M Jul 19 15:04 genes.barcodes.txt\n",
      "-rw-rw-r--. 1 munfred munfred 640K Jul 19 15:04 genes.genes.txt\n",
      "-rw-rw-r--. 1 munfred munfred  52M Jul 19 15:04 genes.mtx\n"
     ]
    }
   ],
   "source": [
    "!ls -lh ./sample2/genecounts/"
   ]
  },
  {
   "cell_type": "markdown",
   "metadata": {},
   "source": [
    "# Read sample1 and sample2 gene count matrices into anndata and concatenate them"
   ]
  },
  {
   "cell_type": "code",
   "execution_count": 21,
   "metadata": {},
   "outputs": [
    {
     "name": "stdout",
     "output_type": "stream",
     "text": [
      "Loaded sample1 mtx: (226612, 35606)\n"
     ]
    }
   ],
   "source": [
    "## load sample1 on anndata as sparse crs matrix\n",
    "sample1 = anndata.AnnData(scipy.io.mmread('./sample1/genecounts/genes.mtx').tocsr())\n",
    "sample1.obs= pd.read_csv('./sample1/genecounts/genes.barcodes.txt', index_col = 0, header = None, names = ['barcode'])\n",
    "sample1.var = pd.read_csv('./sample1/genecounts/genes.genes.txt', header = None, index_col = 0, names =['ensembl_id'], sep = '\\t')\n",
    "print('Loaded sample1 mtx:',sample1.X.shape)\n"
   ]
  },
  {
   "cell_type": "code",
   "execution_count": 22,
   "metadata": {},
   "outputs": [
    {
     "data": {
      "text/plain": [
       "AnnData object with n_obs × n_vars = 226612 × 35606 "
      ]
     },
     "execution_count": 22,
     "metadata": {},
     "output_type": "execute_result"
    }
   ],
   "source": [
    "sample1"
   ]
  },
  {
   "cell_type": "code",
   "execution_count": 23,
   "metadata": {},
   "outputs": [
    {
     "data": {
      "text/plain": [
       "<226612x35606 sparse matrix of type '<class 'numpy.float32'>'\n",
       "\twith 8379616 stored elements in Compressed Sparse Row format>"
      ]
     },
     "execution_count": 23,
     "metadata": {},
     "output_type": "execute_result"
    }
   ],
   "source": [
    "sample1.X"
   ]
  },
  {
   "cell_type": "code",
   "execution_count": 24,
   "metadata": {},
   "outputs": [
    {
     "data": {
      "text/html": [
       "<div>\n",
       "<style scoped>\n",
       "    .dataframe tbody tr th:only-of-type {\n",
       "        vertical-align: middle;\n",
       "    }\n",
       "\n",
       "    .dataframe tbody tr th {\n",
       "        vertical-align: top;\n",
       "    }\n",
       "\n",
       "    .dataframe thead th {\n",
       "        text-align: right;\n",
       "    }\n",
       "</style>\n",
       "<table border=\"1\" class=\"dataframe\">\n",
       "  <thead>\n",
       "    <tr style=\"text-align: right;\">\n",
       "      <th></th>\n",
       "    </tr>\n",
       "    <tr>\n",
       "      <th>barcode</th>\n",
       "    </tr>\n",
       "  </thead>\n",
       "  <tbody>\n",
       "    <tr>\n",
       "      <th>AAACCTGAGAAACCAT</th>\n",
       "    </tr>\n",
       "    <tr>\n",
       "      <th>AAACCTGAGAAACCGC</th>\n",
       "    </tr>\n",
       "    <tr>\n",
       "      <th>AAACCTGAGAAACCTA</th>\n",
       "    </tr>\n",
       "    <tr>\n",
       "      <th>AAACCTGAGAAACGAG</th>\n",
       "    </tr>\n",
       "    <tr>\n",
       "      <th>AAACCTGAGAAAGTGG</th>\n",
       "    </tr>\n",
       "  </tbody>\n",
       "</table>\n",
       "</div>"
      ],
      "text/plain": [
       "Empty DataFrame\n",
       "Columns: []\n",
       "Index: [AAACCTGAGAAACCAT, AAACCTGAGAAACCGC, AAACCTGAGAAACCTA, AAACCTGAGAAACGAG, AAACCTGAGAAAGTGG]"
      ]
     },
     "execution_count": 24,
     "metadata": {},
     "output_type": "execute_result"
    }
   ],
   "source": [
    "sample1.obs.head()"
   ]
  },
  {
   "cell_type": "code",
   "execution_count": 25,
   "metadata": {},
   "outputs": [
    {
     "data": {
      "text/html": [
       "<div>\n",
       "<style scoped>\n",
       "    .dataframe tbody tr th:only-of-type {\n",
       "        vertical-align: middle;\n",
       "    }\n",
       "\n",
       "    .dataframe tbody tr th {\n",
       "        vertical-align: top;\n",
       "    }\n",
       "\n",
       "    .dataframe thead th {\n",
       "        text-align: right;\n",
       "    }\n",
       "</style>\n",
       "<table border=\"1\" class=\"dataframe\">\n",
       "  <thead>\n",
       "    <tr style=\"text-align: right;\">\n",
       "      <th></th>\n",
       "    </tr>\n",
       "    <tr>\n",
       "      <th>ensembl_id</th>\n",
       "    </tr>\n",
       "  </thead>\n",
       "  <tbody>\n",
       "    <tr>\n",
       "      <th>ENSG00000223972.5</th>\n",
       "    </tr>\n",
       "    <tr>\n",
       "      <th>ENSG00000227232.5</th>\n",
       "    </tr>\n",
       "    <tr>\n",
       "      <th>ENSG00000268020.3</th>\n",
       "    </tr>\n",
       "    <tr>\n",
       "      <th>ENSG00000240361.2</th>\n",
       "    </tr>\n",
       "    <tr>\n",
       "      <th>ENSG00000186092.6</th>\n",
       "    </tr>\n",
       "  </tbody>\n",
       "</table>\n",
       "</div>"
      ],
      "text/plain": [
       "Empty DataFrame\n",
       "Columns: []\n",
       "Index: [ENSG00000223972.5, ENSG00000227232.5, ENSG00000268020.3, ENSG00000240361.2, ENSG00000186092.6]"
      ]
     },
     "execution_count": 25,
     "metadata": {},
     "output_type": "execute_result"
    }
   ],
   "source": [
    "sample1.var.head()"
   ]
  },
  {
   "cell_type": "code",
   "execution_count": 26,
   "metadata": {},
   "outputs": [
    {
     "name": "stdout",
     "output_type": "stream",
     "text": [
      "Loaded sample2 mtx: (135582, 35606)\n"
     ]
    }
   ],
   "source": [
    "## load sample2 on anndata as sparse crs matrix\n",
    "sample2 = anndata.AnnData(scipy.io.mmread('./sample2/genecounts/genes.mtx').tocsr())\n",
    "sample2.obs= pd.read_csv('./sample2/genecounts/genes.barcodes.txt', index_col = 0, header = None, names = ['barcode'])\n",
    "sample2.var = pd.read_csv('./sample2/genecounts/genes.genes.txt', header = None, index_col = 0, names =['ensembl_id'], sep = '\\t')\n",
    "print('Loaded sample2 mtx:',sample2.X.shape)"
   ]
  },
  {
   "cell_type": "code",
   "execution_count": 27,
   "metadata": {},
   "outputs": [
    {
     "data": {
      "text/plain": [
       "AnnData object with n_obs × n_vars = 135582 × 35606 "
      ]
     },
     "execution_count": 27,
     "metadata": {},
     "output_type": "execute_result"
    }
   ],
   "source": [
    "sample2"
   ]
  },
  {
   "cell_type": "code",
   "execution_count": 28,
   "metadata": {},
   "outputs": [
    {
     "data": {
      "text/plain": [
       "<135582x35606 sparse matrix of type '<class 'numpy.float32'>'\n",
       "\twith 3177015 stored elements in Compressed Sparse Row format>"
      ]
     },
     "execution_count": 28,
     "metadata": {},
     "output_type": "execute_result"
    }
   ],
   "source": [
    "sample2.X"
   ]
  },
  {
   "cell_type": "code",
   "execution_count": 29,
   "metadata": {},
   "outputs": [
    {
     "data": {
      "text/html": [
       "<div>\n",
       "<style scoped>\n",
       "    .dataframe tbody tr th:only-of-type {\n",
       "        vertical-align: middle;\n",
       "    }\n",
       "\n",
       "    .dataframe tbody tr th {\n",
       "        vertical-align: top;\n",
       "    }\n",
       "\n",
       "    .dataframe thead th {\n",
       "        text-align: right;\n",
       "    }\n",
       "</style>\n",
       "<table border=\"1\" class=\"dataframe\">\n",
       "  <thead>\n",
       "    <tr style=\"text-align: right;\">\n",
       "      <th></th>\n",
       "    </tr>\n",
       "    <tr>\n",
       "      <th>barcode</th>\n",
       "    </tr>\n",
       "  </thead>\n",
       "  <tbody>\n",
       "    <tr>\n",
       "      <th>AAACCTGAGAACTCGG</th>\n",
       "    </tr>\n",
       "    <tr>\n",
       "      <th>AAACCTGAGAAGCCCA</th>\n",
       "    </tr>\n",
       "    <tr>\n",
       "      <th>AAACCTGAGAAGGCCT</th>\n",
       "    </tr>\n",
       "    <tr>\n",
       "      <th>AAACCTGAGAATTCCC</th>\n",
       "    </tr>\n",
       "    <tr>\n",
       "      <th>AAACCTGAGACAATAC</th>\n",
       "    </tr>\n",
       "  </tbody>\n",
       "</table>\n",
       "</div>"
      ],
      "text/plain": [
       "Empty DataFrame\n",
       "Columns: []\n",
       "Index: [AAACCTGAGAACTCGG, AAACCTGAGAAGCCCA, AAACCTGAGAAGGCCT, AAACCTGAGAATTCCC, AAACCTGAGACAATAC]"
      ]
     },
     "execution_count": 29,
     "metadata": {},
     "output_type": "execute_result"
    }
   ],
   "source": [
    "sample2.obs.head()"
   ]
  },
  {
   "cell_type": "code",
   "execution_count": 30,
   "metadata": {},
   "outputs": [
    {
     "data": {
      "text/html": [
       "<div>\n",
       "<style scoped>\n",
       "    .dataframe tbody tr th:only-of-type {\n",
       "        vertical-align: middle;\n",
       "    }\n",
       "\n",
       "    .dataframe tbody tr th {\n",
       "        vertical-align: top;\n",
       "    }\n",
       "\n",
       "    .dataframe thead th {\n",
       "        text-align: right;\n",
       "    }\n",
       "</style>\n",
       "<table border=\"1\" class=\"dataframe\">\n",
       "  <thead>\n",
       "    <tr style=\"text-align: right;\">\n",
       "      <th></th>\n",
       "    </tr>\n",
       "    <tr>\n",
       "      <th>ensembl_id</th>\n",
       "    </tr>\n",
       "  </thead>\n",
       "  <tbody>\n",
       "    <tr>\n",
       "      <th>ENSG00000223972.5</th>\n",
       "    </tr>\n",
       "    <tr>\n",
       "      <th>ENSG00000227232.5</th>\n",
       "    </tr>\n",
       "    <tr>\n",
       "      <th>ENSG00000268020.3</th>\n",
       "    </tr>\n",
       "    <tr>\n",
       "      <th>ENSG00000240361.2</th>\n",
       "    </tr>\n",
       "    <tr>\n",
       "      <th>ENSG00000186092.6</th>\n",
       "    </tr>\n",
       "  </tbody>\n",
       "</table>\n",
       "</div>"
      ],
      "text/plain": [
       "Empty DataFrame\n",
       "Columns: []\n",
       "Index: [ENSG00000223972.5, ENSG00000227232.5, ENSG00000268020.3, ENSG00000240361.2, ENSG00000186092.6]"
      ]
     },
     "execution_count": 30,
     "metadata": {},
     "output_type": "execute_result"
    }
   ],
   "source": [
    "sample2.var.head()"
   ]
  },
  {
   "cell_type": "markdown",
   "metadata": {},
   "source": [
    "# Concatenate sample1 and sample2 anndatas"
   ]
  },
  {
   "cell_type": "code",
   "execution_count": 31,
   "metadata": {},
   "outputs": [],
   "source": [
    "concat_samples = AnnData.concatenate(sample1, sample2, join='outer', batch_categories=['sample1','sample2'],index_unique='-')"
   ]
  },
  {
   "cell_type": "code",
   "execution_count": 32,
   "metadata": {},
   "outputs": [
    {
     "data": {
      "text/plain": [
       "AnnData object with n_obs × n_vars = 362194 × 35606 \n",
       "    obs: 'batch'"
      ]
     },
     "execution_count": 32,
     "metadata": {},
     "output_type": "execute_result"
    }
   ],
   "source": [
    "concat_samples"
   ]
  },
  {
   "cell_type": "code",
   "execution_count": 33,
   "metadata": {},
   "outputs": [
    {
     "data": {
      "text/html": [
       "<div>\n",
       "<style scoped>\n",
       "    .dataframe tbody tr th:only-of-type {\n",
       "        vertical-align: middle;\n",
       "    }\n",
       "\n",
       "    .dataframe tbody tr th {\n",
       "        vertical-align: top;\n",
       "    }\n",
       "\n",
       "    .dataframe thead th {\n",
       "        text-align: right;\n",
       "    }\n",
       "</style>\n",
       "<table border=\"1\" class=\"dataframe\">\n",
       "  <thead>\n",
       "    <tr style=\"text-align: right;\">\n",
       "      <th></th>\n",
       "    </tr>\n",
       "  </thead>\n",
       "  <tbody>\n",
       "    <tr>\n",
       "      <th>ENSG00000223972.5</th>\n",
       "    </tr>\n",
       "    <tr>\n",
       "      <th>ENSG00000227232.5</th>\n",
       "    </tr>\n",
       "    <tr>\n",
       "      <th>ENSG00000268020.3</th>\n",
       "    </tr>\n",
       "    <tr>\n",
       "      <th>ENSG00000240361.2</th>\n",
       "    </tr>\n",
       "    <tr>\n",
       "      <th>ENSG00000186092.6</th>\n",
       "    </tr>\n",
       "  </tbody>\n",
       "</table>\n",
       "</div>"
      ],
      "text/plain": [
       "Empty DataFrame\n",
       "Columns: []\n",
       "Index: [ENSG00000223972.5, ENSG00000227232.5, ENSG00000268020.3, ENSG00000240361.2, ENSG00000186092.6]"
      ]
     },
     "execution_count": 33,
     "metadata": {},
     "output_type": "execute_result"
    }
   ],
   "source": [
    "concat_samples.var.head()"
   ]
  },
  {
   "cell_type": "code",
   "execution_count": 34,
   "metadata": {},
   "outputs": [
    {
     "data": {
      "text/html": [
       "<div>\n",
       "<style scoped>\n",
       "    .dataframe tbody tr th:only-of-type {\n",
       "        vertical-align: middle;\n",
       "    }\n",
       "\n",
       "    .dataframe tbody tr th {\n",
       "        vertical-align: top;\n",
       "    }\n",
       "\n",
       "    .dataframe thead th {\n",
       "        text-align: right;\n",
       "    }\n",
       "</style>\n",
       "<table border=\"1\" class=\"dataframe\">\n",
       "  <thead>\n",
       "    <tr style=\"text-align: right;\">\n",
       "      <th></th>\n",
       "      <th>batch</th>\n",
       "    </tr>\n",
       "  </thead>\n",
       "  <tbody>\n",
       "    <tr>\n",
       "      <th>AAACCTGAGAAACCAT-sample1</th>\n",
       "      <td>sample1</td>\n",
       "    </tr>\n",
       "    <tr>\n",
       "      <th>AAACCTGAGAAACCGC-sample1</th>\n",
       "      <td>sample1</td>\n",
       "    </tr>\n",
       "    <tr>\n",
       "      <th>AAACCTGAGAAACCTA-sample1</th>\n",
       "      <td>sample1</td>\n",
       "    </tr>\n",
       "    <tr>\n",
       "      <th>AAACCTGAGAAACGAG-sample1</th>\n",
       "      <td>sample1</td>\n",
       "    </tr>\n",
       "    <tr>\n",
       "      <th>AAACCTGAGAAAGTGG-sample1</th>\n",
       "      <td>sample1</td>\n",
       "    </tr>\n",
       "    <tr>\n",
       "      <th>AAACCTGAGAACAATC-sample1</th>\n",
       "      <td>sample1</td>\n",
       "    </tr>\n",
       "    <tr>\n",
       "      <th>AAACCTGAGAAGATTC-sample1</th>\n",
       "      <td>sample1</td>\n",
       "    </tr>\n",
       "    <tr>\n",
       "      <th>AAACCTGAGAAGGTGA-sample1</th>\n",
       "      <td>sample1</td>\n",
       "    </tr>\n",
       "    <tr>\n",
       "      <th>AAACCTGAGAATGTTG-sample1</th>\n",
       "      <td>sample1</td>\n",
       "    </tr>\n",
       "    <tr>\n",
       "      <th>AAACCTGAGAATTGTG-sample1</th>\n",
       "      <td>sample1</td>\n",
       "    </tr>\n",
       "    <tr>\n",
       "      <th>AAACCTGAGACAAGCC-sample1</th>\n",
       "      <td>sample1</td>\n",
       "    </tr>\n",
       "    <tr>\n",
       "      <th>AAACCTGAGACCACGA-sample1</th>\n",
       "      <td>sample1</td>\n",
       "    </tr>\n",
       "    <tr>\n",
       "      <th>AAACCTGAGACCGGAT-sample1</th>\n",
       "      <td>sample1</td>\n",
       "    </tr>\n",
       "    <tr>\n",
       "      <th>AAACCTGAGACCTAGG-sample1</th>\n",
       "      <td>sample1</td>\n",
       "    </tr>\n",
       "    <tr>\n",
       "      <th>AAACCTGAGACGACGT-sample1</th>\n",
       "      <td>sample1</td>\n",
       "    </tr>\n",
       "    <tr>\n",
       "      <th>AAACCTGAGACGCACA-sample1</th>\n",
       "      <td>sample1</td>\n",
       "    </tr>\n",
       "    <tr>\n",
       "      <th>AAACCTGAGACGCTTT-sample1</th>\n",
       "      <td>sample1</td>\n",
       "    </tr>\n",
       "    <tr>\n",
       "      <th>AAACCTGAGACTAAGT-sample1</th>\n",
       "      <td>sample1</td>\n",
       "    </tr>\n",
       "    <tr>\n",
       "      <th>AAACCTGAGACTAGGC-sample1</th>\n",
       "      <td>sample1</td>\n",
       "    </tr>\n",
       "    <tr>\n",
       "      <th>AAACCTGAGACTGGGT-sample1</th>\n",
       "      <td>sample1</td>\n",
       "    </tr>\n",
       "    <tr>\n",
       "      <th>AAACCTGAGAGAACAG-sample1</th>\n",
       "      <td>sample1</td>\n",
       "    </tr>\n",
       "    <tr>\n",
       "      <th>AAACCTGAGAGACTTA-sample1</th>\n",
       "      <td>sample1</td>\n",
       "    </tr>\n",
       "    <tr>\n",
       "      <th>AAACCTGAGAGAGCTC-sample1</th>\n",
       "      <td>sample1</td>\n",
       "    </tr>\n",
       "    <tr>\n",
       "      <th>AAACCTGAGAGCAATT-sample1</th>\n",
       "      <td>sample1</td>\n",
       "    </tr>\n",
       "    <tr>\n",
       "      <th>AAACCTGAGAGCTGGT-sample1</th>\n",
       "      <td>sample1</td>\n",
       "    </tr>\n",
       "    <tr>\n",
       "      <th>AAACCTGAGAGGACGG-sample1</th>\n",
       "      <td>sample1</td>\n",
       "    </tr>\n",
       "    <tr>\n",
       "      <th>AAACCTGAGAGGGCTT-sample1</th>\n",
       "      <td>sample1</td>\n",
       "    </tr>\n",
       "    <tr>\n",
       "      <th>AAACCTGAGAGGTACC-sample1</th>\n",
       "      <td>sample1</td>\n",
       "    </tr>\n",
       "    <tr>\n",
       "      <th>AAACCTGAGAGGTTGC-sample1</th>\n",
       "      <td>sample1</td>\n",
       "    </tr>\n",
       "    <tr>\n",
       "      <th>AAACCTGAGAGTAATC-sample1</th>\n",
       "      <td>sample1</td>\n",
       "    </tr>\n",
       "    <tr>\n",
       "      <th>...</th>\n",
       "      <td>...</td>\n",
       "    </tr>\n",
       "    <tr>\n",
       "      <th>TTTGTCATCGCGGATC-sample2</th>\n",
       "      <td>sample2</td>\n",
       "    </tr>\n",
       "    <tr>\n",
       "      <th>TTTGTCATCGGTTCGG-sample2</th>\n",
       "      <td>sample2</td>\n",
       "    </tr>\n",
       "    <tr>\n",
       "      <th>TTTGTCATCGTAGGAG-sample2</th>\n",
       "      <td>sample2</td>\n",
       "    </tr>\n",
       "    <tr>\n",
       "      <th>TTTGTCATCGTATCAG-sample2</th>\n",
       "      <td>sample2</td>\n",
       "    </tr>\n",
       "    <tr>\n",
       "      <th>TTTGTCATCGTCCAGG-sample2</th>\n",
       "      <td>sample2</td>\n",
       "    </tr>\n",
       "    <tr>\n",
       "      <th>TTTGTCATCGTCGTTC-sample2</th>\n",
       "      <td>sample2</td>\n",
       "    </tr>\n",
       "    <tr>\n",
       "      <th>TTTGTCATCGTCTGAA-sample2</th>\n",
       "      <td>sample2</td>\n",
       "    </tr>\n",
       "    <tr>\n",
       "      <th>TTTGTCATCGTTGACA-sample2</th>\n",
       "      <td>sample2</td>\n",
       "    </tr>\n",
       "    <tr>\n",
       "      <th>TTTGTCATCTAACTTC-sample2</th>\n",
       "      <td>sample2</td>\n",
       "    </tr>\n",
       "    <tr>\n",
       "      <th>TTTGTCATCTACCAGA-sample2</th>\n",
       "      <td>sample2</td>\n",
       "    </tr>\n",
       "    <tr>\n",
       "      <th>TTTGTCATCTACTTAC-sample2</th>\n",
       "      <td>sample2</td>\n",
       "    </tr>\n",
       "    <tr>\n",
       "      <th>TTTGTCATCTATCCTA-sample2</th>\n",
       "      <td>sample2</td>\n",
       "    </tr>\n",
       "    <tr>\n",
       "      <th>TTTGTCATCTCAAGTG-sample2</th>\n",
       "      <td>sample2</td>\n",
       "    </tr>\n",
       "    <tr>\n",
       "      <th>TTTGTCATCTCCGGTT-sample2</th>\n",
       "      <td>sample2</td>\n",
       "    </tr>\n",
       "    <tr>\n",
       "      <th>TTTGTCATCTCCTATA-sample2</th>\n",
       "      <td>sample2</td>\n",
       "    </tr>\n",
       "    <tr>\n",
       "      <th>TTTGTCATCTCGTATT-sample2</th>\n",
       "      <td>sample2</td>\n",
       "    </tr>\n",
       "    <tr>\n",
       "      <th>TTTGTCATCTCTTGAT-sample2</th>\n",
       "      <td>sample2</td>\n",
       "    </tr>\n",
       "    <tr>\n",
       "      <th>TTTGTCATCTGAGGGA-sample2</th>\n",
       "      <td>sample2</td>\n",
       "    </tr>\n",
       "    <tr>\n",
       "      <th>TTTGTCATCTGCCAGG-sample2</th>\n",
       "      <td>sample2</td>\n",
       "    </tr>\n",
       "    <tr>\n",
       "      <th>TTTGTCATCTGCTGCT-sample2</th>\n",
       "      <td>sample2</td>\n",
       "    </tr>\n",
       "    <tr>\n",
       "      <th>TTTGTCATCTGCTGTC-sample2</th>\n",
       "      <td>sample2</td>\n",
       "    </tr>\n",
       "    <tr>\n",
       "      <th>TTTGTCATCTGGCGAC-sample2</th>\n",
       "      <td>sample2</td>\n",
       "    </tr>\n",
       "    <tr>\n",
       "      <th>TTTGTCATCTGTACGA-sample2</th>\n",
       "      <td>sample2</td>\n",
       "    </tr>\n",
       "    <tr>\n",
       "      <th>TTTGTCATCTGTGCAA-sample2</th>\n",
       "      <td>sample2</td>\n",
       "    </tr>\n",
       "    <tr>\n",
       "      <th>TTTGTCATCTTACCGC-sample2</th>\n",
       "      <td>sample2</td>\n",
       "    </tr>\n",
       "    <tr>\n",
       "      <th>TTTGTCATCTTACCTA-sample2</th>\n",
       "      <td>sample2</td>\n",
       "    </tr>\n",
       "    <tr>\n",
       "      <th>TTTGTCATCTTCATGT-sample2</th>\n",
       "      <td>sample2</td>\n",
       "    </tr>\n",
       "    <tr>\n",
       "      <th>TTTGTCATCTTGCCGT-sample2</th>\n",
       "      <td>sample2</td>\n",
       "    </tr>\n",
       "    <tr>\n",
       "      <th>TTTGTCATCTTTACAC-sample2</th>\n",
       "      <td>sample2</td>\n",
       "    </tr>\n",
       "    <tr>\n",
       "      <th>TTTGTCATCTTTCCTC-sample2</th>\n",
       "      <td>sample2</td>\n",
       "    </tr>\n",
       "  </tbody>\n",
       "</table>\n",
       "<p>362194 rows × 1 columns</p>\n",
       "</div>"
      ],
      "text/plain": [
       "                            batch\n",
       "AAACCTGAGAAACCAT-sample1  sample1\n",
       "AAACCTGAGAAACCGC-sample1  sample1\n",
       "AAACCTGAGAAACCTA-sample1  sample1\n",
       "AAACCTGAGAAACGAG-sample1  sample1\n",
       "AAACCTGAGAAAGTGG-sample1  sample1\n",
       "AAACCTGAGAACAATC-sample1  sample1\n",
       "AAACCTGAGAAGATTC-sample1  sample1\n",
       "AAACCTGAGAAGGTGA-sample1  sample1\n",
       "AAACCTGAGAATGTTG-sample1  sample1\n",
       "AAACCTGAGAATTGTG-sample1  sample1\n",
       "AAACCTGAGACAAGCC-sample1  sample1\n",
       "AAACCTGAGACCACGA-sample1  sample1\n",
       "AAACCTGAGACCGGAT-sample1  sample1\n",
       "AAACCTGAGACCTAGG-sample1  sample1\n",
       "AAACCTGAGACGACGT-sample1  sample1\n",
       "AAACCTGAGACGCACA-sample1  sample1\n",
       "AAACCTGAGACGCTTT-sample1  sample1\n",
       "AAACCTGAGACTAAGT-sample1  sample1\n",
       "AAACCTGAGACTAGGC-sample1  sample1\n",
       "AAACCTGAGACTGGGT-sample1  sample1\n",
       "AAACCTGAGAGAACAG-sample1  sample1\n",
       "AAACCTGAGAGACTTA-sample1  sample1\n",
       "AAACCTGAGAGAGCTC-sample1  sample1\n",
       "AAACCTGAGAGCAATT-sample1  sample1\n",
       "AAACCTGAGAGCTGGT-sample1  sample1\n",
       "AAACCTGAGAGGACGG-sample1  sample1\n",
       "AAACCTGAGAGGGCTT-sample1  sample1\n",
       "AAACCTGAGAGGTACC-sample1  sample1\n",
       "AAACCTGAGAGGTTGC-sample1  sample1\n",
       "AAACCTGAGAGTAATC-sample1  sample1\n",
       "...                           ...\n",
       "TTTGTCATCGCGGATC-sample2  sample2\n",
       "TTTGTCATCGGTTCGG-sample2  sample2\n",
       "TTTGTCATCGTAGGAG-sample2  sample2\n",
       "TTTGTCATCGTATCAG-sample2  sample2\n",
       "TTTGTCATCGTCCAGG-sample2  sample2\n",
       "TTTGTCATCGTCGTTC-sample2  sample2\n",
       "TTTGTCATCGTCTGAA-sample2  sample2\n",
       "TTTGTCATCGTTGACA-sample2  sample2\n",
       "TTTGTCATCTAACTTC-sample2  sample2\n",
       "TTTGTCATCTACCAGA-sample2  sample2\n",
       "TTTGTCATCTACTTAC-sample2  sample2\n",
       "TTTGTCATCTATCCTA-sample2  sample2\n",
       "TTTGTCATCTCAAGTG-sample2  sample2\n",
       "TTTGTCATCTCCGGTT-sample2  sample2\n",
       "TTTGTCATCTCCTATA-sample2  sample2\n",
       "TTTGTCATCTCGTATT-sample2  sample2\n",
       "TTTGTCATCTCTTGAT-sample2  sample2\n",
       "TTTGTCATCTGAGGGA-sample2  sample2\n",
       "TTTGTCATCTGCCAGG-sample2  sample2\n",
       "TTTGTCATCTGCTGCT-sample2  sample2\n",
       "TTTGTCATCTGCTGTC-sample2  sample2\n",
       "TTTGTCATCTGGCGAC-sample2  sample2\n",
       "TTTGTCATCTGTACGA-sample2  sample2\n",
       "TTTGTCATCTGTGCAA-sample2  sample2\n",
       "TTTGTCATCTTACCGC-sample2  sample2\n",
       "TTTGTCATCTTACCTA-sample2  sample2\n",
       "TTTGTCATCTTCATGT-sample2  sample2\n",
       "TTTGTCATCTTGCCGT-sample2  sample2\n",
       "TTTGTCATCTTTACAC-sample2  sample2\n",
       "TTTGTCATCTTTCCTC-sample2  sample2\n",
       "\n",
       "[362194 rows x 1 columns]"
      ]
     },
     "execution_count": 34,
     "metadata": {},
     "output_type": "execute_result"
    }
   ],
   "source": [
    "concat_samples.obs"
   ]
  },
  {
   "cell_type": "code",
   "execution_count": null,
   "metadata": {},
   "outputs": [],
   "source": []
  },
  {
   "cell_type": "code",
   "execution_count": null,
   "metadata": {},
   "outputs": [],
   "source": []
  }
 ],
 "metadata": {
  "kernelspec": {
   "display_name": "Python 3",
   "language": "python",
   "name": "python3"
  },
  "language_info": {
   "codemirror_mode": {
    "name": "ipython",
    "version": 3
   },
   "file_extension": ".py",
   "mimetype": "text/x-python",
   "name": "python",
   "nbconvert_exporter": "python",
   "pygments_lexer": "ipython3",
   "version": "3.6.8"
  }
 },
 "nbformat": 4,
 "nbformat_minor": 2
}
