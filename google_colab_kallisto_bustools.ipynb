{
 "cells": [
  {
   "cell_type": "markdown",
   "metadata": {},
   "source": [
    "# Pre-processing and analysis of single-cell RNA-seq with kallisto|bustools \n",
    "\n",
    "This notebook is based on methods described in the following publications:\n",
    "* Bray, N. L., Pimentel, H., Melsted, P. & Pachter, L. Near-optimal probabilistic RNA-seq quantification. Nat. Biotechnol. 34, 525–527 (2016).\n",
    "* Wolf, F. A., Angerer, P. & Theis, F. J. SCANPY: large-scale single-cell gene expression data analysis. Genome Biol. 19, 15 (2018).\n",
    "* Melsted, P., Ntranos, V. & Pachter, L. The Barcode, UMI, Set format and BUStools. Bioinformatics (2019). doi:10.1093/bioinformatics/btz279\n",
    "* Melsted, P. et al. Modular and efficient pre-processing of single-cell RNA-seq. BioRxiv (2019). doi:10.1101/673285\n"
   ]
  },
  {
   "cell_type": "code",
   "execution_count": 0,
   "metadata": {
    "colab": {},
    "colab_type": "code",
    "id": "c-rDWcV9Sa5j"
   },
   "outputs": [],
   "source": [
    "!date"
   ]
  },
  {
   "cell_type": "markdown",
   "metadata": {},
   "source": [
    "## Run kallisto and bustools"
   ]
  },
  {
   "cell_type": "markdown",
   "metadata": {
    "colab_type": "text",
    "id": "XTDBxdkcI95X"
   },
   "source": [
    "### Download and install kallisto|bustools"
   ]
  },
  {
   "cell_type": "code",
   "execution_count": 0,
   "metadata": {
    "colab": {},
    "colab_type": "code",
    "id": "9_1SBmbHfatg"
   },
   "outputs": [],
   "source": [
    "!wget https://github.com/pachterlab/kallisto/releases/download/v0.46.0/kallisto_linux-v0.46.0.tar.gz\n",
    "!tar -xf kallisto_linux-v0.46.0.tar.gz\n",
    "!cp kallisto/kallisto /usr/local/bin/\n",
    "\n",
    "!wget https://github.com/BUStools/bustools/releases/download/v0.39.3/bustools_linux-v0.39.3.tar.gz\n",
    "!tar -xf bustools_linux-v0.39.3.tar.gz\n",
    "!cp bustools/bustools /usr/local/bin/"
   ]
  },
  {
   "cell_type": "code",
   "execution_count": 0,
   "metadata": {
    "colab": {},
    "colab_type": "code",
    "id": "P8hIP2pofHwH"
   },
   "outputs": [],
   "source": [
    "#TEST\n",
    "!kallisto\n",
    "!bustools"
   ]
  },
  {
   "cell_type": "markdown",
   "metadata": {
    "colab_type": "text",
    "id": "XWS-gw-uieMC"
   },
   "source": [
    "### Download transcriptome index, barcode whiltelist and transcript-gene map"
   ]
  },
  {
   "cell_type": "code",
   "execution_count": 0,
   "metadata": {
    "colab": {},
    "colab_type": "code",
    "id": "-jXKh60OHRdM"
   },
   "outputs": [],
   "source": [
    "# DOWLOAD kallisto index\n",
    "!wget https://github.com/BUStools/getting_started/releases/download/getting_started/Mus_musculus.GRCm38.cdna.all.idx.gz\n",
    "!gunzip Mus_musculus.GRCm38.cdna.all.idx.gz\n",
    "\n",
    "# get the whitelist and tx to gene file\n",
    "!wget https://github.com/BUStools/getting_started/releases/download/getting_started/10xv2_whitelist.txt\n",
    "!wget https://github.com/BUStools/getting_started/releases/download/getting_started/transcripts_to_genes.txt"
   ]
  },
  {
   "cell_type": "markdown",
   "metadata": {
    "colab_type": "text",
    "id": "RvW27EQPSslm"
   },
   "source": [
    "### Specifiy data location and stream FASTQ files to kallisto\n",
    "This notebook analyzes data from SRA accession [SRR8599150](https://www.ncbi.nlm.nih.gov/sra/?term=SRR8599150)"
   ]
  },
  {
   "cell_type": "code",
   "execution_count": 0,
   "metadata": {
    "colab": {},
    "colab_type": "code",
    "id": "hfd-SKqDF0e8"
   },
   "outputs": [],
   "source": [
    "!\\\n",
    "urlR1=\"https://github.com/bustools/getting_started/releases/download/getting_started/SRR8599150_S1_L001_R1_001.fastq.gz\"; \\\n",
    "urlR2=\"https://github.com/bustools/getting_started/releases/download/getting_started/SRR8599150_S1_L001_R2_001.fastq.gz\"; \\\n",
    "time kallisto bus -i Mus_musculus.GRCm38.cdna.all.idx -x 10xv2 -t 2 -o bus_out/ <(curl -Ls ${urlR1}) <(curl -Ls ${urlR2})"
   ]
  },
  {
   "cell_type": "markdown",
   "metadata": {
    "colab_type": "text",
    "id": "CUnbhG9QVTsE"
   },
   "source": [
    "#Run bustools (correct, sort, count)"
   ]
  },
  {
   "cell_type": "code",
   "execution_count": 0,
   "metadata": {
    "colab": {},
    "colab_type": "code",
    "id": "wO0Fc7QIUc5L"
   },
   "outputs": [],
   "source": [
    "!mkdir bus_out/genecount/ bus_out/tmp/\n",
    "!time bustools correct -w 10xv2_whitelist.txt -p bus_out/output.bus | bustools sort -T bus_out/tmp/ -t 2 -p - | bustools count -o bus_out/genecount/genes -g transcripts_to_genes.txt -e bus_out/matrix.ec -t bus_out/transcripts.txt --genecounts -"
   ]
  },
  {
   "cell_type": "markdown",
   "metadata": {
    "colab_type": "text",
    "id": "UExHieIvdaQw"
   },
   "source": [
    "---\n",
    "\n",
    "\n",
    "\n",
    "---"
   ]
  },
  {
   "cell_type": "code",
   "execution_count": 0,
   "metadata": {
    "colab": {},
    "colab_type": "code",
    "id": "32rXfBoufApj"
   },
   "outputs": [],
   "source": [
    "!date"
   ]
  },
  {
   "cell_type": "markdown",
   "metadata": {
    "colab_type": "text",
    "id": "vXHt72LKdelY"
   },
   "source": [
    "---\n",
    "\n",
    "\n",
    "\n",
    "---"
   ]
  },
  {
   "cell_type": "markdown",
   "metadata": {},
   "source": [
    "## Perform basic analysis with ScanPy \n",
    "\n",
    "*   Based on the Jupyter notebook from [kallistobus.tools/getting_started](https://www.kallistobus.tools/getting_started) "
   ]
  },
  {
   "cell_type": "markdown",
   "metadata": {
    "colab_type": "text",
    "id": "NtgMu-oQcYot"
   },
   "source": [
    "### Install python packages"
   ]
  },
  {
   "cell_type": "code",
   "execution_count": 0,
   "metadata": {
    "colab": {},
    "colab_type": "code",
    "id": "ftUvGyjMShYV"
   },
   "outputs": [],
   "source": [
    "!pip install scanpy[louvain] \n",
    "!pip install MulticoreTSNE"
   ]
  },
  {
   "cell_type": "markdown",
   "metadata": {
    "colab_type": "text",
    "id": "i4SJ06NMSa5r"
   },
   "source": [
    "### Import Packages"
   ]
  },
  {
   "cell_type": "code",
   "execution_count": 0,
   "metadata": {
    "colab": {},
    "colab_type": "code",
    "id": "kWfcafjVSa5s"
   },
   "outputs": [],
   "source": [
    "import scanpy as sc\n",
    "from scipy import sparse, io\n",
    "import matplotlib.pyplot as plt\n",
    "import pandas as pd\n",
    "import matplotlib\n",
    "import numpy as np\n",
    "\n",
    "matplotlib.rcParams.update({'font.size': 12})\n",
    "%config InlineBackend.figure_format = 'retina'"
   ]
  },
  {
   "cell_type": "markdown",
   "metadata": {
    "colab_type": "text",
    "id": "awDqY2APSa5v"
   },
   "source": [
    "### Import MTX, genes, and barcodes"
   ]
  },
  {
   "cell_type": "code",
   "execution_count": 0,
   "metadata": {
    "colab": {},
    "colab_type": "code",
    "id": "x3WGh-yOSa5w"
   },
   "outputs": [],
   "source": [
    "folder = \"/content/bus_out/genecount/\""
   ]
  },
  {
   "cell_type": "markdown",
   "metadata": {
    "colab_type": "text",
    "id": "sE0OVl2hSa5z"
   },
   "source": [
    "The annotated dataframe has rows (obs) which are cell barcodes, columns (var) which are genes. The actual matrix `adata.X` is a sparse matrix."
   ]
  },
  {
   "cell_type": "code",
   "execution_count": 0,
   "metadata": {
    "colab": {},
    "colab_type": "code",
    "id": "e4fnoSSJSa50"
   },
   "outputs": [],
   "source": [
    "adata = sc.read_mtx(folder + \"genes.mtx\")\n",
    "adata.obs.index = pd.read_csv(folder + \"genes.barcodes.txt\", header=None)[0].values\n",
    "adata.var.index = pd.read_csv(folder + \"genes.genes.txt\", header=None)[0].values"
   ]
  },
  {
   "cell_type": "code",
   "execution_count": 0,
   "metadata": {
    "colab": {},
    "colab_type": "code",
    "id": "5KW98i0mSa53"
   },
   "outputs": [],
   "source": [
    "adata"
   ]
  },
  {
   "cell_type": "markdown",
   "metadata": {
    "colab_type": "text",
    "id": "z2i1abw1Sa57"
   },
   "source": [
    "### Make the knee plot"
   ]
  },
  {
   "cell_type": "code",
   "execution_count": 0,
   "metadata": {
    "colab": {},
    "colab_type": "code",
    "id": "5cVYa8PPSa59"
   },
   "outputs": [],
   "source": [
    "knee = np.sort((np.array(adata.X.sum(axis=1))).flatten())[::-1]"
   ]
  },
  {
   "cell_type": "code",
   "execution_count": 0,
   "metadata": {
    "colab": {},
    "colab_type": "code",
    "id": "PMrlZ5_USa5_"
   },
   "outputs": [],
   "source": [
    "fig, ax = plt.subplots(figsize=(10, 7))\n",
    "\n",
    "expected_num_cells=3949\n",
    "\n",
    "ax.loglog(knee, range(len(knee)), label=\"kallisto\", linewidth=5, color=\"k\")\n",
    "ax.axvline(x=knee[expected_num_cells], linewidth=3, color=\"g\")\n",
    "ax.axhline(y=expected_num_cells, linewidth=3, color=\"g\")\n",
    "\n",
    "ax.set_xlabel(\"UMI Counts\")\n",
    "ax.set_ylabel(\"Set of Barcodes\")\n",
    "\n",
    "plt.grid(True, which=\"both\")\n",
    "ax.legend()\n",
    "plt.show()"
   ]
  },
  {
   "cell_type": "markdown",
   "metadata": {
    "colab_type": "text",
    "id": "mhAmj8shSa6C"
   },
   "source": [
    "### Filter cells"
   ]
  },
  {
   "cell_type": "code",
   "execution_count": 0,
   "metadata": {
    "colab": {},
    "colab_type": "code",
    "id": "zt6_uXI-Sa6D"
   },
   "outputs": [],
   "source": [
    "sc.pp.filter_cells(adata, min_genes=0)\n",
    "sc.pp.filter_cells(adata, min_counts=knee[expected_num_cells])\n",
    "sc.pp.filter_genes(adata, min_cells=0)"
   ]
  },
  {
   "cell_type": "code",
   "execution_count": 0,
   "metadata": {
    "colab": {},
    "colab_type": "code",
    "id": "VQVqCmkvSa6G"
   },
   "outputs": [],
   "source": [
    "adata"
   ]
  },
  {
   "cell_type": "markdown",
   "metadata": {
    "colab_type": "text",
    "id": "Pc-p4tg3Sa6J"
   },
   "source": [
    "### Distribution of genes"
   ]
  },
  {
   "cell_type": "code",
   "execution_count": 0,
   "metadata": {
    "colab": {},
    "colab_type": "code",
    "id": "0kHk6nPGSa6J"
   },
   "outputs": [],
   "source": [
    "fig, ax = plt.subplots(figsize=(10, 7))\n",
    "sc.pl.violin(adata, 'n_genes', jitter=0.4, ax=ax)"
   ]
  },
  {
   "cell_type": "markdown",
   "metadata": {
    "colab_type": "text",
    "id": "8tgy3ZfISa6M"
   },
   "source": [
    "### Distribution of counts"
   ]
  },
  {
   "cell_type": "code",
   "execution_count": 0,
   "metadata": {
    "colab": {},
    "colab_type": "code",
    "id": "xlJ41upJSa6N"
   },
   "outputs": [],
   "source": [
    "fig, ax = plt.subplots(figsize=(10, 7))\n",
    "sc.pl.violin(adata, 'n_counts', jitter=0.4, ax=ax)"
   ]
  },
  {
   "cell_type": "markdown",
   "metadata": {
    "colab_type": "text",
    "id": "FR082u79Sa6Q"
   },
   "source": [
    "Normalize the counts in the matrix"
   ]
  },
  {
   "cell_type": "code",
   "execution_count": 0,
   "metadata": {
    "colab": {},
    "colab_type": "code",
    "id": "lyNrMP41Sa6Q"
   },
   "outputs": [],
   "source": [
    "sc.pp.normalize_per_cell(adata, counts_per_cell_after=1e4)"
   ]
  },
  {
   "cell_type": "markdown",
   "metadata": {
    "colab_type": "text",
    "id": "AHA3DMOiSa6T"
   },
   "source": [
    "apply $log(1+count)$ to all counts in your matrix"
   ]
  },
  {
   "cell_type": "code",
   "execution_count": 0,
   "metadata": {
    "colab": {},
    "colab_type": "code",
    "id": "EO-kDrtnSa6T"
   },
   "outputs": [],
   "source": [
    "adata.raw = sc.pp.log1p(adata, copy=True)"
   ]
  },
  {
   "cell_type": "code",
   "execution_count": 0,
   "metadata": {
    "colab": {},
    "colab_type": "code",
    "id": "W6dkN0DESa6W"
   },
   "outputs": [],
   "source": [
    "sc.pp.log1p(adata)"
   ]
  },
  {
   "cell_type": "markdown",
   "metadata": {
    "colab_type": "text",
    "id": "HH8aLUm1Sa6Y"
   },
   "source": [
    "Filter adata for highly variable genes, and make `fadata` which only contains highly variable genes for further analysis."
   ]
  },
  {
   "cell_type": "markdown",
   "metadata": {
    "colab_type": "text",
    "id": "28yBtadXSa6Z"
   },
   "source": [
    "### Highly variable genes"
   ]
  },
  {
   "cell_type": "code",
   "execution_count": 0,
   "metadata": {
    "colab": {},
    "colab_type": "code",
    "id": "CkPuCStLSa6a"
   },
   "outputs": [],
   "source": [
    "filter_result = sc.pp.highly_variable_genes(adata, min_disp=0.3,inplace=False, n_top_genes=1209)\n",
    "\n",
    "sc.pl.highly_variable_genes(filter_result)"
   ]
  },
  {
   "cell_type": "code",
   "execution_count": 0,
   "metadata": {
    "colab": {},
    "colab_type": "code",
    "id": "bpXAnZzVSa6c"
   },
   "outputs": [],
   "source": [
    "print(\"{:,} highly variable genes\".format(sum(x[0] for x in filter_result)))"
   ]
  },
  {
   "cell_type": "markdown",
   "metadata": {
    "colab_type": "text",
    "id": "fmKWLCjOSa6f"
   },
   "source": [
    "### Cluster with Louvain and Plot PCA, UMAP, TSNE"
   ]
  },
  {
   "cell_type": "code",
   "execution_count": 0,
   "metadata": {
    "colab": {},
    "colab_type": "code",
    "id": "mfHLJ0CCSa6g"
   },
   "outputs": [],
   "source": [
    "%%time\n",
    "sc.tl.pca(adata)\n",
    "sc.pp.neighbors(adata)\n",
    "sc.tl.louvain(adata)"
   ]
  },
  {
   "cell_type": "code",
   "execution_count": 0,
   "metadata": {
    "colab": {},
    "colab_type": "code",
    "id": "8aDhTPPrSa6k"
   },
   "outputs": [],
   "source": [
    "%%time\n",
    "sc.tl.tsne(adata, n_pcs=10)"
   ]
  },
  {
   "cell_type": "code",
   "execution_count": 0,
   "metadata": {
    "colab": {},
    "colab_type": "code",
    "id": "s_78o33VSa6n"
   },
   "outputs": [],
   "source": [
    "fig, ax = plt.subplots(figsize=(10, 7))\n",
    "sc.pl.pca(adata, color=\"louvain\", ax=ax)"
   ]
  },
  {
   "cell_type": "code",
   "execution_count": 0,
   "metadata": {
    "colab": {},
    "colab_type": "code",
    "id": "p0-GWmrgSa6s"
   },
   "outputs": [],
   "source": [
    "sc.pl.pca_variance_ratio(adata)"
   ]
  },
  {
   "cell_type": "code",
   "execution_count": 0,
   "metadata": {
    "colab": {},
    "colab_type": "code",
    "id": "TtcN5hleSa6v"
   },
   "outputs": [],
   "source": [
    "fig, ax = plt.subplots(figsize=(10, 7))\n",
    "sc.pl.tsne(adata, color=\"louvain\", ax=ax, save=\"getting_started_tsne.png\")"
   ]
  },
  {
   "cell_type": "code",
   "execution_count": 0,
   "metadata": {
    "colab": {},
    "colab_type": "code",
    "id": "OZoqHNZuSa61"
   },
   "outputs": [],
   "source": [
    "!date"
   ]
  }
 ],
 "metadata": {
  "accelerator": "GPU",
  "colab": {
   "collapsed_sections": [
    "XWS-gw-uieMC"
   ],
   "name": "colab_getting_started.ipynb",
   "provenance": [],
   "toc_visible": true
  },
  "kernelspec": {
   "display_name": "Python 3",
   "language": "python",
   "name": "python3"
  },
  "language_info": {
   "codemirror_mode": {
    "name": "ipython",
    "version": 3
   },
   "file_extension": ".py",
   "mimetype": "text/x-python",
   "name": "python",
   "nbconvert_exporter": "python",
   "pygments_lexer": "ipython3",
   "version": "3.7.1"
  }
 },
 "nbformat": 4,
 "nbformat_minor": 1
}
